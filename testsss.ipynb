{
  "nbformat": 4,
  "nbformat_minor": 0,
  "metadata": {
    "colab": {
      "name": "testsss.ipynb",
      "provenance": [],
      "collapsed_sections": [],
      "authorship_tag": "ABX9TyOaJ81Wg6ljfQGmLnEAEezS",
      "include_colab_link": true
    },
    "kernelspec": {
      "name": "python3",
      "display_name": "Python 3"
    },
    "language_info": {
      "name": "python"
    }
  },
  "cells": [
    {
      "cell_type": "markdown",
      "metadata": {
        "id": "view-in-github",
        "colab_type": "text"
      },
      "source": [
        "<a href=\"https://colab.research.google.com/github/hsmeen4/gg/blob/semin/testsss.ipynb\" target=\"_parent\"><img src=\"https://colab.research.google.com/assets/colab-badge.svg\" alt=\"Open In Colab\"/></a>"
      ]
    },
    {
      "cell_type": "code",
      "metadata": {
        "colab": {
          "base_uri": "https://localhost:8080/",
          "height": 383
        },
        "id": "zeL5dMzqavBj",
        "outputId": "23f79daa-9253-44fb-d57e-aa7a3ec2d8c1"
      },
      "source": [
        "class Node:\n",
        "  def __init__(self, data):\n",
        "    self.data = data\n",
        "    self.next = None\n",
        "  \n",
        "  def get_data(self):\n",
        "    return self.data\n",
        "  \n",
        "  def get_next(self):\n",
        "    return self.next\n",
        "  \n",
        "  def set_next(self, next):\n",
        "    self.next = next\n",
        "\n",
        "class Simply_linked_list:\n",
        "  def __init__(self):\n",
        "    self.header = None\n",
        "    self.tail = None\n",
        "    self.size = 0\n",
        "  \n",
        "  def append(self, data):\n",
        "    new_node = Node(data)\n",
        "    self.size += 1\n",
        "    if self.header is None:\n",
        "      self.header = new_node\n",
        "    else:\n",
        "      self.tail.set_next(new_node)\n",
        "    self.tail = new_node\n",
        "  \n",
        "  def print_list(self):\n",
        "    print(\">> current list\")\n",
        "    node = self.header\n",
        "    while node is not None:\n",
        "      print(node.get_data())\n",
        "      node = node.get_next()\n",
        "    print(\">>>>>>>>>>>>>\")\n",
        "  \n",
        "  def get_at(self, index):\n",
        "    if index >= self.size:\n",
        "      return None\n",
        "    else:\n",
        "      node = self.header\n",
        "      for i in range(0, index):\n",
        "        node = node.get_next()\n",
        "      return node\n",
        "\n",
        "  def search(self, data):\n",
        "    node = self.header\n",
        "    while node is not None:\n",
        "      if node.get_data() == data:\n",
        "        return node\n",
        "      node = node.get_next()\n",
        "    return node\n",
        "  \n",
        "  def delete_at(self, index):\n",
        "    if index >= self.size:\n",
        "      return None:\n",
        "    else:\n",
        "      node= self.header\n",
        "      for i in range(0, index):\n",
        "        node = node.get_next()\n",
        "        if node \n",
        "sll = Simply_linked_list()\n",
        "sll.append(\"Apple\")\n",
        "sll.append(\"Kiwi\")\n",
        "sll.append(\"Banana\")\n",
        "sll.print_list()\n",
        "\n",
        "node = sll.get_at(1)\n",
        "if node is not None:\n",
        "  print(node.get_data())\n",
        "else:\n",
        "  print(\"index error\")\n",
        "node = sll.get_at(2)\n",
        "if node is not None:\n",
        "  print(node.get_data())\n",
        "else:\n",
        "  print(\"index error\")\n",
        "\n",
        "node = sll.search(\"Banana\")\n",
        "if node is not None:\n",
        "  print(\"We have it!\")\n",
        "else:\n",
        "  print(\"We don't have it!\")\n",
        "\n",
        "sll.delete_at(1)\n",
        "sll.print_list()\n",
        "sll.delete_at(0)\n",
        "sll.print_list()\n",
        "sll.append(\"orange\")\n",
        "sll.print_list()"
      ],
      "execution_count": null,
      "outputs": [
        {
          "output_type": "stream",
          "text": [
            ">> current list\n",
            "Apple\n",
            "Kiwi\n",
            "Banana\n",
            ">>>>>>>>>>>>>\n",
            "Kiwi\n",
            "Banana\n",
            "We have it!\n"
          ],
          "name": "stdout"
        },
        {
          "output_type": "error",
          "ename": "AttributeError",
          "evalue": "ignored",
          "traceback": [
            "\u001b[0;31m---------------------------------------------------------------------------\u001b[0m",
            "\u001b[0;31mAttributeError\u001b[0m                            Traceback (most recent call last)",
            "\u001b[0;32m<ipython-input-12-df2e830d835d>\u001b[0m in \u001b[0;36m<module>\u001b[0;34m()\u001b[0m\n\u001b[1;32m     76\u001b[0m   \u001b[0mprint\u001b[0m\u001b[0;34m(\u001b[0m\u001b[0;34m\"We don't have it!\"\u001b[0m\u001b[0;34m)\u001b[0m\u001b[0;34m\u001b[0m\u001b[0;34m\u001b[0m\u001b[0m\n\u001b[1;32m     77\u001b[0m \u001b[0;34m\u001b[0m\u001b[0m\n\u001b[0;32m---> 78\u001b[0;31m \u001b[0msll\u001b[0m\u001b[0;34m.\u001b[0m\u001b[0mdelete_at\u001b[0m\u001b[0;34m(\u001b[0m\u001b[0;36m1\u001b[0m\u001b[0;34m)\u001b[0m\u001b[0;34m\u001b[0m\u001b[0;34m\u001b[0m\u001b[0m\n\u001b[0m\u001b[1;32m     79\u001b[0m \u001b[0msll\u001b[0m\u001b[0;34m.\u001b[0m\u001b[0mprint_list\u001b[0m\u001b[0;34m(\u001b[0m\u001b[0;34m)\u001b[0m\u001b[0;34m\u001b[0m\u001b[0;34m\u001b[0m\u001b[0m\n\u001b[1;32m     80\u001b[0m \u001b[0msll\u001b[0m\u001b[0;34m.\u001b[0m\u001b[0mdelete_at\u001b[0m\u001b[0;34m(\u001b[0m\u001b[0;36m0\u001b[0m\u001b[0;34m)\u001b[0m\u001b[0;34m\u001b[0m\u001b[0;34m\u001b[0m\u001b[0m\n",
            "\u001b[0;31mAttributeError\u001b[0m: 'Simply_linked_list' object has no attribute 'delete_at'"
          ]
        }
      ]
    }
  ]
}